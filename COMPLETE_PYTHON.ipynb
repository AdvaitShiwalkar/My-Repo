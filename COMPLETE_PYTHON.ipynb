{
 "cells": [
  {
   "cell_type": "markdown",
   "id": "a82043bb-0c58-4e69-bc25-f6554842d01d",
   "metadata": {
    "jp-MarkdownHeadingCollapsed": true
   },
   "source": [
    "# Basics"
   ]
  },
  {
   "cell_type": "code",
   "execution_count": null,
   "id": "920d979d-0bf4-45f9-9c3c-04237e7f1d84",
   "metadata": {},
   "outputs": [],
   "source": [
    "first = \"Hello\"\n",
    "last = \"World\"\n",
    "full = first + \" \" + last\n",
    "print(full)"
   ]
  },
  {
   "cell_type": "code",
   "execution_count": null,
   "id": "80c44c85-5fe1-4941-b1f0-6f4769f3b101",
   "metadata": {},
   "outputs": [],
   "source": [
    "height = 172.5\n",
    "print(\"My height is\", str(height), \"cms\")\n",
    "print(f\"My height is {height} cms\")"
   ]
  },
  {
   "cell_type": "code",
   "execution_count": null,
   "id": "dfe2c923-ad9b-4a21-abfd-f556270dbcc3",
   "metadata": {},
   "outputs": [],
   "source": [
    "#String Functions\n",
    "name = \"Advait Shiwalkar\"\n",
    "\n",
    "print(len(name))\n",
    "print(name.find(\"A\"))\n",
    "print(name.capitalize())\n",
    "print(name.upper())\n",
    "print(name.lower())\n",
    "print(name.isdigit())\n",
    "print(name.isalpha())\n",
    "print(name.count(\"a\"))\n",
    "print(name.replace(\"v\",\"w\"))\n",
    "print(name*3)"
   ]
  },
  {
   "cell_type": "code",
   "execution_count": null,
   "id": "778a989f-ca64-462b-b54f-b655320b660e",
   "metadata": {},
   "outputs": [],
   "source": [
    "#Variables\n",
    "x = 1\n",
    "y = 2.0\n",
    "z = \"3\"\n",
    "\n",
    "print(x,y,z)\n",
    "\n",
    "print(x*3,y*3,z*3)"
   ]
  },
  {
   "cell_type": "code",
   "execution_count": null,
   "id": "60017111-d69f-4863-b491-5d1e8b96926a",
   "metadata": {},
   "outputs": [],
   "source": [
    "print(\"Your name is \" + input(\"Enter your name : \"))"
   ]
  },
  {
   "cell_type": "code",
   "execution_count": 17,
   "id": "fe21685b-8ce1-471f-90e4-ad14b856d1e0",
   "metadata": {},
   "outputs": [
    {
     "name": "stdout",
     "output_type": "stream",
     "text": [
      "1\n",
      "9.8596\n",
      "15.0\n",
      "4\n",
      "1\n",
      "3\n",
      "4\n",
      "3\n"
     ]
    }
   ],
   "source": [
    "#Math Functions\n",
    "import math\n",
    "\n",
    "pi = 3.14\n",
    "\n",
    "print(abs(-1))\n",
    "print(pow(pi,2))\n",
    "print(math.sqrt(225))\n",
    "print(max(1,2,4))\n",
    "print(min(1,2,4))\n",
    "print(round(pi))\n",
    "print(math.ceil(pi))\n",
    "print(math.floor(pi))"
   ]
  },
  {
   "cell_type": "code",
   "execution_count": 21,
   "id": "f5509b7a-ec97-4839-97d7-bb48432dba7d",
   "metadata": {},
   "outputs": [
    {
     "name": "stdout",
     "output_type": "stream",
     "text": [
      "Bro Code\n",
      "Bro\n",
      "Code\n",
      "Reverse :  edoC orB\n"
     ]
    }
   ],
   "source": [
    "#Indexing\n",
    "name = \"Bro Code\"\n",
    "\n",
    "print(name)\n",
    "print(name[:3])\n",
    "print(name[4:])\n",
    "print(\"Reverse : \", name[::-1])"
   ]
  },
  {
   "cell_type": "code",
   "execution_count": 67,
   "id": "65dbbc24-1062-49f5-b7b6-daea276df20c",
   "metadata": {},
   "outputs": [
    {
     "name": "stdout",
     "output_type": "stream",
     "text": [
      "BRO code\n"
     ]
    }
   ],
   "source": [
    "name = \"Bro Code\"\n",
    "print(name[:3].upper(), name[4:].lower())"
   ]
  },
  {
   "cell_type": "code",
   "execution_count": 26,
   "id": "b15d85a6-300a-446d-a9fd-cee978e7ce59",
   "metadata": {},
   "outputs": [
    {
     "name": "stdout",
     "output_type": "stream",
     "text": [
      "google\n"
     ]
    }
   ],
   "source": [
    "#Slicing\n",
    "website = \"http://google.com\"\n",
    "\n",
    "slice1 = slice(7,-4)\n",
    "print(website[slice1])"
   ]
  },
  {
   "cell_type": "code",
   "execution_count": 31,
   "id": "1e8466bb-7e7c-4713-b990-f04305929eb6",
   "metadata": {},
   "outputs": [
    {
     "name": "stdin",
     "output_type": "stream",
     "text": [
      "Enter your age :  18\n"
     ]
    },
    {
     "name": "stdout",
     "output_type": "stream",
     "text": [
      "You are an adult\n"
     ]
    }
   ],
   "source": [
    "age = int(input(\"Enter your age : \"))\n",
    "\n",
    "if age >= 75:\n",
    "    print(\"You are a senior\")\n",
    "elif age >= 18:\n",
    "    print(\"You are an adult\")\n",
    "elif age == 0:\n",
    "    print(\"You have just born\")\n",
    "else:\n",
    "    print(\"You are a kid\")"
   ]
  },
  {
   "cell_type": "code",
   "execution_count": 32,
   "id": "8f474602-48e8-40b9-ab28-b7ea303908c7",
   "metadata": {},
   "outputs": [
    {
     "name": "stdin",
     "output_type": "stream",
     "text": [
      "Enter the year :  1900\n"
     ]
    },
    {
     "name": "stdout",
     "output_type": "stream",
     "text": [
      "1900 is not leap year\n"
     ]
    }
   ],
   "source": [
    "year = int(input(\"Enter the year : \"))\n",
    "\n",
    "if (year % 4 == 0 and year % 100 != 0) or year % 400 == 0:\n",
    "    print(f\"{year} is a leap year\")\n",
    "else:\n",
    "    print(f\"{year} is not leap year\")"
   ]
  },
  {
   "cell_type": "code",
   "execution_count": 34,
   "id": "21d94298-df5d-467d-9c46-5a19ad9d446e",
   "metadata": {},
   "outputs": [
    {
     "name": "stdout",
     "output_type": "stream",
     "text": [
      "[0, 1, 2, 3, 4, 5, 6, 7, 8, 9, 10, 11, 12, 13, 14, 15, 16, 17, 18, 19, 20, 21, 22, 23, 24, 25, 26, 27, 28, 29, 30, 31, 32, 33, 34, 35, 36, 37, 38, 39, 40, 41, 42, 43, 44, 45, 46, 47, 48, 49, 50, 51, 52, 53, 54, 55, 56, 57, 58, 59, 60, 61, 62, 63, 64, 65, 66, 67, 68, 69, 70, 71, 72, 73, 74, 75, 76, 77, 78, 79, 80, 81, 82, 83, 84, 85, 86, 87, 88, 89, 90, 91, 92, 93, 94, 95, 96, 97, 98, 99]\n"
     ]
    }
   ],
   "source": [
    "list1 = []\n",
    "for i in range(100):\n",
    "    list1.append(i)\n",
    "\n",
    "print(list1)"
   ]
  },
  {
   "cell_type": "code",
   "execution_count": 51,
   "id": "43d54cb8-0848-465d-a38b-14a9ac95714e",
   "metadata": {},
   "outputs": [
    {
     "name": "stdout",
     "output_type": "stream",
     "text": [
      "10\n",
      "9\n",
      "8\n",
      "7\n",
      "6\n",
      "5\n",
      "4\n",
      "3\n",
      "2\n",
      "1\n",
      "Happy New Year!\n"
     ]
    }
   ],
   "source": [
    "import time\n",
    "for i in range(10,0,-1):\n",
    "    print(i)\n",
    "    time.sleep(1)\n",
    "print(\"Happy New Year!\")"
   ]
  },
  {
   "cell_type": "code",
   "execution_count": 36,
   "id": "e5ef6c94-c770-44b3-a3f0-440a92003199",
   "metadata": {},
   "outputs": [
    {
     "name": "stdin",
     "output_type": "stream",
     "text": [
      "Enter no. of rows :  5\n",
      "Enter no. of columns :  5\n",
      "Enter a symbol :  @\n"
     ]
    },
    {
     "name": "stdout",
     "output_type": "stream",
     "text": [
      "@@@@@\n",
      "@@@@@\n",
      "@@@@@\n",
      "@@@@@\n",
      "@@@@@\n"
     ]
    }
   ],
   "source": [
    "rows = int(input(\"Enter no. of rows : \"))\n",
    "columns = int(input(\"Enter no. of columns : \"))\n",
    "symbol = input(\"Enter a symbol : \")\n",
    "\n",
    "for i in range(rows):\n",
    "    for j in range(columns):\n",
    "        print(symbol,end = \"\")\n",
    "    print()"
   ]
  },
  {
   "cell_type": "code",
   "execution_count": 39,
   "id": "7c75e128-9943-46a0-8473-023ddd9d6793",
   "metadata": {},
   "outputs": [
    {
     "name": "stdout",
     "output_type": "stream",
     "text": [
      "0 1\n",
      "1 2\n",
      "2 3\n",
      "3 4\n",
      "4 5\n"
     ]
    }
   ],
   "source": [
    "for enum, i in enumerate(range(1,6)):\n",
    "    print(enum, i)"
   ]
  },
  {
   "cell_type": "code",
   "execution_count": 57,
   "id": "57884849-01ca-438a-97f9-01ab0d36c9d3",
   "metadata": {},
   "outputs": [
    {
     "name": "stdout",
     "output_type": "stream",
     "text": [
      "pizza\n",
      "['pizza', 'burger', 'sushi']\n",
      "['pizza', 'burger', 'sushi', 'ice cream']\n",
      "['pizza', 'burger', 'ice cream']\n",
      "['pizza', 'ice cream']\n",
      "['pizza', 'cake', 'ice cream']\n",
      "['cake', 'ice cream', 'pizza']\n",
      "[]\n"
     ]
    }
   ],
   "source": [
    "#List\n",
    "food = [\"pizza\",\"burger\",\"hotdog\"]\n",
    "print(food[0])\n",
    "\n",
    "food[2] = \"sushi\"\n",
    "print(food)\n",
    "food.append(\"ice cream\")\n",
    "print(food)\n",
    "food.remove(\"sushi\")\n",
    "print(food)\n",
    "food.pop(1)\n",
    "print(food)\n",
    "food.insert(1,\"cake\")\n",
    "print(food)\n",
    "food.sort()\n",
    "print(food)\n",
    "food.clear()\n",
    "print(food)"
   ]
  },
  {
   "cell_type": "code",
   "execution_count": 48,
   "id": "c9ef4741-d602-46e1-b875-f2b016c301ee",
   "metadata": {},
   "outputs": [
    {
     "name": "stdout",
     "output_type": "stream",
     "text": [
      "cake\n"
     ]
    }
   ],
   "source": [
    "#2D Lists\n",
    "drinks = [\"coffee\"]\n",
    "dinner = [\"desert\"]\n",
    "dessert = [\"cake\"]\n",
    "\n",
    "food = [drinks,dinner,dessert]\n",
    "print(food[2][0])"
   ]
  },
  {
   "cell_type": "code",
   "execution_count": 50,
   "id": "1341ae0c-507b-4467-ac13-ad4f7140d8b1",
   "metadata": {},
   "outputs": [
    {
     "name": "stdout",
     "output_type": "stream",
     "text": [
      "1\n",
      "2\n",
      "\n",
      "Bro\n",
      "21\n",
      "male\n"
     ]
    }
   ],
   "source": [
    "#Tuple\n",
    "student = (\"Bro\", 21, \"male\")\n",
    "print(student.count(\"Bro\"))\n",
    "print(student.index(\"male\"))\n",
    "print()\n",
    "\n",
    "for x in student:\n",
    "    print(x)"
   ]
  },
  {
   "cell_type": "code",
   "execution_count": 52,
   "id": "0c88c6c3-a14e-4804-8929-fff471f6b61b",
   "metadata": {},
   "outputs": [
    {
     "name": "stdout",
     "output_type": "stream",
     "text": [
      "{'bowl', 'cup', 'napkin', 'fork', 'spoon', 'plate'}\n",
      "{'napkin', 'fork', 'spoon'}\n",
      "set()\n",
      "\n",
      "napkin\n",
      "fork\n",
      "spoon\n"
     ]
    }
   ],
   "source": [
    "#Set\n",
    "utensils = {\"fork\",\"spoon\",\"knife\"}\n",
    "dishes = {\"plate\",\"cup\",\"bowl\"}\n",
    "\n",
    "utensils.add(\"napkin\")\n",
    "utensils.remove(\"knife\")\n",
    "#utensils.clear()\n",
    "\n",
    "print(utensils.union(dishes))\n",
    "print(utensils.difference(dishes))\n",
    "print(utensils.intersection(dishes))\n",
    "print()\n",
    "\n",
    "for x in utensils:\n",
    "    print(x)"
   ]
  },
  {
   "cell_type": "code",
   "execution_count": 63,
   "id": "05b503cd-04f9-4cb9-ab39-ff8bea56943a",
   "metadata": {},
   "outputs": [
    {
     "name": "stdout",
     "output_type": "stream",
     "text": [
      "None\n",
      "dict_keys(['USA', 'India', 'China', 'Russia'])\n",
      "dict_values(['Washington DC', 'New Delhi', 'Beijing', 'Moscow'])\n",
      "dict_items([('USA', 'Washington DC'), ('India', 'New Delhi'), ('China', 'Beijing'), ('Russia', 'Moscow')])\n"
     ]
    },
    {
     "data": {
      "text/plain": [
       "'Beijing'"
      ]
     },
     "execution_count": 63,
     "metadata": {},
     "output_type": "execute_result"
    }
   ],
   "source": [
    "#Dictionaries\n",
    "capitals = {\"USA\":\"Washington DC\",\n",
    "            \"India\":\"New Delhi\",\n",
    "            \"China\":\"Beijing\",\n",
    "            \"Russia\":\"Moscow\"\n",
    "           }\n",
    "print(capitals.get(\"Germany\"))\n",
    "print(capitals.keys())\n",
    "print(capitals.values())\n",
    "print(capitals.items())\n",
    "\n",
    "capitals.update({\"Germany\":\"Berlin\"})\n",
    "capitals.pop(\"China\")"
   ]
  },
  {
   "cell_type": "code",
   "execution_count": 70,
   "id": "a53bbc14-3dcb-4711-861e-a14f5302dc70",
   "metadata": {},
   "outputs": [
    {
     "name": "stdout",
     "output_type": "stream",
     "text": [
      "Hello Advait\n"
     ]
    }
   ],
   "source": [
    "def hello(name):\n",
    "    print(\"Hello\", name)\n",
    "hello(\"Advait\")"
   ]
  },
  {
   "cell_type": "code",
   "execution_count": 73,
   "id": "3614471c-8902-4e6a-a397-db93134ad848",
   "metadata": {},
   "outputs": [
    {
     "name": "stdout",
     "output_type": "stream",
     "text": [
      "12321 is a Palindrome Number\n"
     ]
    }
   ],
   "source": [
    "def palindrome(num):\n",
    "    rev = int(str(num)[::-1])\n",
    "    if num == rev:\n",
    "        print(num,\"is a Palindrome Number\")\n",
    "    else:\n",
    "        print(num,\"is not Palindrome Number\")\n",
    "\n",
    "palindrome(12321)"
   ]
  },
  {
   "cell_type": "markdown",
   "id": "2520903b-6ed6-45bc-a6a0-71648976a613",
   "metadata": {},
   "source": [
    "# Extra"
   ]
  },
  {
   "cell_type": "code",
   "execution_count": 1,
   "id": "89675c60-84a8-4d6f-a55f-c0cf98b7eab7",
   "metadata": {},
   "outputs": [
    {
     "name": "stdout",
     "output_type": "stream",
     "text": [
      "21\n"
     ]
    }
   ],
   "source": [
    "def add(*args):\n",
    "    sum = 0\n",
    "    for i in args:\n",
    "        sum += i\n",
    "    return sum\n",
    "\n",
    "print(add(1,2,3,4,5,6 ))"
   ]
  },
  {
   "cell_type": "code",
   "execution_count": 3,
   "id": "677d825a-7410-485f-9623-5bb7853ea593",
   "metadata": {},
   "outputs": [
    {
     "name": "stdout",
     "output_type": "stream",
     "text": [
      "Mr. Anonymous Sir "
     ]
    }
   ],
   "source": [
    "def hello(**kwargs):\n",
    "    for key,value in kwargs.items():\n",
    "        print(value, end = \" \")\n",
    "\n",
    "hello(title = \"Mr.\", first = \"Anonymous\", last = \"Sir\")        "
   ]
  },
  {
   "cell_type": "code",
   "execution_count": 3,
   "id": "9900afb6-78d6-484e-acc9-10e01fa09a01",
   "metadata": {},
   "outputs": [
    {
     "name": "stdout",
     "output_type": "stream",
     "text": [
      "I am Advait and I am 18 years old.\n",
      "I am Advait and I am 18 years old.\n",
      "My name is Advait. Hello\n",
      "My name is Advait    . Hello\n",
      "My name is Advait    . Hello\n",
      "My name is     Advait. Hello\n",
      "My name is   Advait  . Hello\n"
     ]
    }
   ],
   "source": [
    "#String Formatting\n",
    "name = \"Advait\"\n",
    "age = 18\n",
    "\n",
    "print(\"I am {} and I am {} years old.\".format(name, age))\n",
    "print(\"I am {name} and I am {age} years old.\".format(age = 18, name = \"Advait\"))\n",
    "\n",
    "print(\"My name is {}. Hello\".format(name))\n",
    "print(\"My name is {:10}. Hello\".format(name))\n",
    "print(\"My name is {:<10}. Hello\".format(name))\n",
    "print(\"My name is {:>10}. Hello\".format(name))\n",
    "print(\"My name is {:^10}. Hello\".format(name))"
   ]
  },
  {
   "cell_type": "code",
   "execution_count": 6,
   "id": "3f5cf1c4-a834-429c-991e-8ecd70a15b57",
   "metadata": {},
   "outputs": [
    {
     "name": "stdout",
     "output_type": "stream",
     "text": [
      "The number pi is 3.14\n",
      "The number is 1,000\n",
      "The number is binary 1111101000\n",
      "The number is octal 1750\n",
      "The number is hexadecimal 3e8\n",
      "The number is scientific 1.000000E+03\n"
     ]
    }
   ],
   "source": [
    "#Integer Formatting\n",
    "pi = 3.14159\n",
    "print(\"The number pi is {:.2f}\".format(pi))\n",
    "num = 1000\n",
    "print(\"The number is {:,}\".format(num))\n",
    "print(\"The number is binary {:b}\".format(num))\n",
    "print(\"The number is octal {:o}\".format(num))\n",
    "print(\"The number is hexadecimal {:x}\".format(num))\n",
    "print(\"The number is scientific {:E}\".format(num))"
   ]
  },
  {
   "cell_type": "code",
   "execution_count": 7,
   "id": "39583fd7-3473-4448-a6b8-926a7ac33dc3",
   "metadata": {},
   "outputs": [
    {
     "name": "stdout",
     "output_type": "stream",
     "text": [
      "3\n",
      "0.5754327744689843\n",
      "Scissors\n",
      "[2, 3, 5, 9, 'Q', 'J', 'A', 7, 8, 6, 'K', 10, 4]\n"
     ]
    }
   ],
   "source": [
    "import random\n",
    "\n",
    "print(random.randint(1,6))\n",
    "print(random.random())\n",
    "\n",
    "list1 = [\"Rock\",\"Paper\",\"Scissors\"]\n",
    "print(random.choice(list1))\n",
    "\n",
    "cards = [\"A\",2,3,4,5,6,7,8,9,10,\"J\",\"Q\",\"K\"]\n",
    "random.shuffle(cards)\n",
    "print(cards)"
   ]
  },
  {
   "cell_type": "code",
   "execution_count": null,
   "id": "df74e1fa-11d0-442f-ae05-743d4d00bd0e",
   "metadata": {},
   "outputs": [],
   "source": [
    "#Exception Handling\n",
    "try:\n",
    "    numerator = int(input(\"Enter a number to divide : \"))\n",
    "    denominator = int(input(\"Enter a number to divide by : \"))\n",
    "    result = numerator / denominator\n",
    "    print(result)\n",
    "except ZeroDivisionError :\n",
    "    print(\"You cannot divide by zero\")\n",
    "except ValueError:\n",
    "    print(\"Enter only numbers\")\n",
    "except Exception:\n",
    "    print(\"Something went wrong\")\n",
    "else:\n",
    "    print(result)"
   ]
  },
  {
   "cell_type": "code",
   "execution_count": 11,
   "id": "f174af5a-51ca-404b-a69c-f78d5a3e9732",
   "metadata": {},
   "outputs": [
    {
     "name": "stdout",
     "output_type": "stream",
     "text": [
      "Location exists\n",
      "This is a file\n"
     ]
    }
   ],
   "source": [
    "import os\n",
    "path = \"C:\\\\Users\\\\AVADHUT\\\\Desktop\\\\Advait\\\\PYTHON_PDA\\\\myfile.txt\"\n",
    "\n",
    "if os.path.exists(path):\n",
    "    print(\"Location exists\")\n",
    "    if os.path.isfile(path):\n",
    "        print(\"This is a file\")\n",
    "    elif os.path.isdir(path):\n",
    "        print(\"This is a directory\")\n",
    "else:\n",
    "    print(\"Location does not exist\")"
   ]
  },
  {
   "cell_type": "code",
   "execution_count": null,
   "id": "eb6ce95a-1bd2-4198-932b-9cc5a54a9a79",
   "metadata": {},
   "outputs": [],
   "source": []
  },
  {
   "cell_type": "code",
   "execution_count": null,
   "id": "860c8834-ad10-43bf-8805-4148d9591489",
   "metadata": {},
   "outputs": [],
   "source": []
  },
  {
   "cell_type": "code",
   "execution_count": null,
   "id": "1f5f7532-94ae-4781-896e-2db410b738e0",
   "metadata": {},
   "outputs": [],
   "source": []
  },
  {
   "cell_type": "code",
   "execution_count": null,
   "id": "7cffe539-a8e4-440d-a918-06a709133e3c",
   "metadata": {},
   "outputs": [],
   "source": []
  },
  {
   "cell_type": "markdown",
   "id": "cd198093-0b85-44ed-b25b-376ef2d398a3",
   "metadata": {},
   "source": [
    "# Microsoft Course"
   ]
  },
  {
   "cell_type": "code",
   "execution_count": null,
   "id": "4d4648b1-884f-47d5-9493-839e159e0995",
   "metadata": {},
   "outputs": [],
   "source": [
    "import pytest\n",
    "from your_flask_app import app  # Import your Flask app\n",
    "\n",
    "@pytest.fixture\n",
    "def client():\n",
    "    \"\"\"Create a test client for interacting with the Flask app.\"\"\"\n",
    "    app.config['TESTING'] = True  # Enable testing mode\n",
    "    with app.test_client() as client:\n",
    "        yield client\n",
    "\n",
    "def test_user_registration(client):\n",
    "    \"\"\"Simulate a user registration and check the response.\"\"\"\n",
    "    data = {'username': 'testuser', 'email': 'testuser@example.com', 'password': 'testpassword'}\n",
    "    response = client.post('/register', data=data)\n",
    "\n",
    "    assert response.status_code == 302  # Expect a redirect after successful registration\n",
    "    # Further checks on database or session data can be added here\n",
    "\n",
    "def test_login(client):\n",
    "    \"\"\"Simulate a user login and verify the response.\"\"\"\n",
    "    data = {'username': 'existinguser', 'password': 'correctpassword'}\n",
    "    response = client.post('/login', data=data)\n",
    "\n",
    "    assert response.status_code == 200  # Expect a successful login\n",
    "    assert b'Welcome, existinguser' in response.data  # Check if welcome message is present\n",
    "\n",
    "# More tests for other routes, form submissions, database interactions, etc. can be added here\n"
   ]
  },
  {
   "cell_type": "code",
   "execution_count": null,
   "id": "51032c0b-13c0-4208-9063-c02ee9c68c36",
   "metadata": {},
   "outputs": [],
   "source": [
    "import pytest\n",
    "import pandas as pd\n",
    "from your_data_science_project import clean_data, train_model, predict\n",
    "\n",
    "# Sample test data\n",
    "@pytest.fixture\n",
    "def test_data():\n",
    "    data = {'feature1': [1, 2, 3, None], 'feature2': ['A', 'B', 'C', 'D']}\n",
    "    return pd.DataFrame(data)\n",
    "\n",
    "def test_data_cleaning(test_data):\n",
    "    \"\"\"Verify if data cleaning handles missing values correctly.\"\"\"\n",
    "    cleaned_data = clean_data(test_data)\n",
    "    assert cleaned_data['feature1'].isnull().sum() == 0  # Check if missing values are filled\n",
    "\n",
    "def test_model_predictions():\n",
    "    \"\"\"Check if model predictions match expected outcomes.\"\"\"\n",
    "    X_test = ...  # Load your test data\n",
    "    y_test = ...  # Load corresponding ground truth labels\n",
    "    model = train_model(...) \n",
    "    predictions = predict(model, X_test)\n",
    "    accuracy = (predictions == y_test).mean()\n",
    "    assert accuracy > 0.8  # Set your desired accuracy threshold\n",
    "\n",
    "def test_model_performance():\n",
    "    \"\"\"Evaluate model performance using relevant metrics.\"\"\"\n",
    "    # ... Load your evaluation data and calculate metrics (e.g., precision, recall, F1-score)\n",
    "    # Assert that the metrics meet your expectations"
   ]
  },
  {
   "cell_type": "code",
   "execution_count": null,
   "id": "33781b7a-5199-4540-8f19-8c5f54ed73fb",
   "metadata": {},
   "outputs": [],
   "source": [
    "import pytest\n",
    "\n",
    "class Calculator:\n",
    "    def add(self, x, y):\n",
    "        return x + y\n",
    "\n",
    "    def subtract(self, x, y):\n",
    "        return x - y\n",
    "\n",
    "    def multiply(self, x, y):\n",
    "        return x * y\n",
    "\n",
    "    def divide(self, x, y):\n",
    "        if y == 0:\n",
    "            raise ValueError(\"Division by zero!\")\n",
    "        return x / y\n",
    "\n",
    "class CalculatorTest:\n",
    "    @pytest.fixture\n",
    "    def calculator(self):\n",
    "        from calculator import Calculator\n",
    "        return Calculator()\n",
    "\n",
    "    def test_add(self, calculator):\n",
    "        result = calculator.add(2, 3)\n",
    "        assert result == 5\n",
    "\n",
    "    def test_subtract(self, calculator):\n",
    "        result = calculator.subtract(5, 2)\n",
    "        assert result == 3\n",
    "\n",
    "    def test_multiply(self, calculator):\n",
    "        result = calculator.multiply(4, 3)\n",
    "        assert result == 12\n",
    "\n",
    "    def test_divide(self, calculator):\n",
    "        result = self.calculator.divide(10, 2)\n",
    "        assert result == 5\n",
    "\n",
    "    def test_divide_by_zero(self, calculator):\n",
    "        with pytest.raises(ValueError):\n",
    "            calculator.divide(5, 0)"
   ]
  },
  {
   "cell_type": "code",
   "execution_count": null,
   "id": "029dcfae-84ff-4983-a77d-2850b7fecd69",
   "metadata": {},
   "outputs": [],
   "source": [
    "import pytest\n",
    "\n",
    "class Product:\n",
    "    def __init__(self, name, price, quantity=1):\n",
    "        self.name = name\n",
    "        self.price = price\n",
    "        self.quantity = quantity\n",
    "\n",
    "class Cart:\n",
    "    def __init__(self):\n",
    "        self.items = []\n",
    "\n",
    "    def add_to_cart(self, product):\n",
    "        self.items.append(product)\n",
    "\n",
    "    def calculate_total_price(self, tax_rate=0.0, shipping_fee=0.0):\n",
    "        subtotal = sum(item.price * item.quantity for item in self.items)\n",
    "        tax = subtotal * tax_rate\n",
    "        total = subtotal + tax + shipping_fee\n",
    "        return total\n",
    "\n",
    "    def apply_discount(self, discount_percentage):\n",
    "        for item in self.items:\n",
    "            item.price *= (1 - discount_percentage / 100)\n",
    "\n",
    "    def checkout(self, payment_gateway):\n",
    "        total_price = self.calculate_total_price()\n",
    "        # In a real application, you'd interact with the payment_gateway here\n",
    "        if payment_gateway.process_payment(total_price):\n",
    "            # Place the order (logic not shown here)\n",
    "            return True\n",
    "        else:\n",
    "            return False\n",
    "\n",
    "class TestProductFunctions:\n",
    "    def test_add_to_cart_successful(self):\n",
    "        cart = Cart()\n",
    "        product = Product(\"Widget\", 10.0)\n",
    "        cart.add_to_cart(product)\n",
    "        assert len(cart.items) == 1\n",
    "        assert cart.items[0] == product\n",
    "\n",
    "    def test_calculate_total_price_accuracy(self):\n",
    "        cart = Cart()\n",
    "        cart.add_to_cart(Product(\"Widget A\", 15.0))\n",
    "        cart.add_to_cart(Product(\"Widget B\", 20.0, 2))  # 2 of these\n",
    "        total = cart.calculate_total_price(tax_rate=0.07, shipping_fee=5.0)\n",
    "        expected_total = (15.0 + 20.0 * 2) * 1.07 + 5.0\n",
    "        assert total == expected_total\n",
    "\n",
    "    def test_apply_discount_correctly(self):\n",
    "        cart = Cart()\n",
    "        cart.add_to_cart(Product(\"Discounted Item\", 50.0))\n",
    "        cart.apply_discount(20)  # 20% discount\n",
    "        assert cart.items[0].price == 40\n",
    "\n",
    "    def test_checkout_successful_payment(self, mocker):\n",
    "        # Mocking a payment gateway (would be a real integration in a production app)\n",
    "        mock_payment_gateway = mocker.Mock()\n",
    "        mock_payment_gateway.proces_payment.return_value = True\n",
    "\n",
    "        cart = Cart()\n",
    "        cart.add_to_cart(Product(\"Something\", 100.0))\n",
    "        result = cart.checkout(mock_payment_gateway)\n",
    "        assert result is True # Checkout should be successful"
   ]
  },
  {
   "cell_type": "code",
   "execution_count": null,
   "id": "ca223a27-62e9-4748-bd4b-be6f871fad42",
   "metadata": {},
   "outputs": [],
   "source": []
  },
  {
   "cell_type": "markdown",
   "id": "7c87f690-a8ba-4ae9-b889-cd741b2e494e",
   "metadata": {},
   "source": [
    "### Sorting"
   ]
  },
  {
   "cell_type": "code",
   "execution_count": 12,
   "id": "dd6f76a7-4077-432c-8a05-58e6439af531",
   "metadata": {},
   "outputs": [
    {
     "data": {
      "text/plain": [
       "[1, 2, 3, 4, 5, 6, 7, 8, 9, 10, 11, 11, 12]"
      ]
     },
     "execution_count": 12,
     "metadata": {},
     "output_type": "execute_result"
    }
   ],
   "source": [
    "#Buuble Sort\n",
    "def bubble_sort(arr):\n",
    "    for i in range(len(arr)-1, 0, -1):\n",
    "        for j in range(i):\n",
    "            if arr[i] > arr[i+1]:\n",
    "                arr[i], arr[i + 1] = arr[i + 1], arr[i]\n",
    "    return arr\n",
    "\n",
    "list1 = [5,9,2,12,4,6,1,3,11,8,10,7,11]\n",
    "simple_sort(list1)"
   ]
  },
  {
   "cell_type": "code",
   "execution_count": 16,
   "id": "e2582cfd-805f-406e-985a-99f6cbcb0fd5",
   "metadata": {},
   "outputs": [
    {
     "data": {
      "text/plain": [
       "[1, 2, 3, 4, 5, 6, 7, 8, 9, 10, 11, 11, 12]"
      ]
     },
     "execution_count": 16,
     "metadata": {},
     "output_type": "execute_result"
    }
   ],
   "source": [
    "#Merge Sort\n",
    "def merge(left, right):\n",
    "    i = j = 0\n",
    "    result = []\n",
    "    while i < len(left) and j < len(right):\n",
    "        if left[i] < right[j]:\n",
    "            result.append(left[i])\n",
    "            i+=1\n",
    "        elif left[i] > right[j]:\n",
    "            result.append(right[j])\n",
    "            j+=1\n",
    "        else:\n",
    "            result.append(left[i])\n",
    "            result.append(right[j])\n",
    "            i+=1\n",
    "            j+=1\n",
    "\n",
    "    result.extend(left[i:])\n",
    "    result.extend(right[j:])\n",
    "\n",
    "    return(result)\n",
    "\n",
    "def merge_sort(arr):\n",
    "    if len(arr) <= 1:\n",
    "        return arr\n",
    "        \n",
    "    mid = len(arr) // 2\n",
    "    left = arr[:mid]\n",
    "    right = arr[mid:]\n",
    "\n",
    "    sleft = merge_sort(left)\n",
    "    sright = merge_sort(right)\n",
    "\n",
    "    return merge(sleft, sright)\n",
    "\n",
    "list1 = [5,9,2,12,4,6,1,3,8,11,10,7,11]\n",
    "merge_sort(list1)"
   ]
  },
  {
   "cell_type": "code",
   "execution_count": 14,
   "id": "984d572b-3be9-420e-90e0-6ef06ea9293f",
   "metadata": {},
   "outputs": [
    {
     "data": {
      "text/plain": [
       "[1, 2, 3, 4, 5, 6, 7, 8, 9, 10, 11, 11, 12]"
      ]
     },
     "execution_count": 14,
     "metadata": {},
     "output_type": "execute_result"
    }
   ],
   "source": [
    "#Simple sort\n",
    "def simple_sort(cards):\n",
    "  sorted_cards = []\n",
    "  while cards:\n",
    "    lowest_card = min(cards)  \n",
    "    sorted_cards.append(lowest_card)\n",
    "    cards.remove(lowest_card)\n",
    "  return sorted_cards\n",
    "\n",
    "list1 = [5,9,2,12,4,6,1,3,8,11,10,7,11]\n",
    "simple_sort(list1)"
   ]
  },
  {
   "cell_type": "code",
   "execution_count": 15,
   "id": "504e0ff8-de26-4d27-8f99-b21f6bcb37d5",
   "metadata": {},
   "outputs": [
    {
     "data": {
      "text/plain": [
       "[1, 2, 3, 4, 5, 6, 7, 8, 9, 10, 11, 11, 12]"
      ]
     },
     "execution_count": 15,
     "metadata": {},
     "output_type": "execute_result"
    }
   ],
   "source": [
    "#Quick Sort\n",
    "def quicksort(cards):\n",
    "  if len(cards) < 2:\n",
    "    return cards\n",
    "  else:\n",
    "    pivot = cards[0]\n",
    "    less = [i for i in cards[1:] if i <= pivot]\n",
    "    greater = [i for i in cards[1:] if i > pivot]\n",
    "    return quicksort(less) + [pivot] + quicksort(greater)\n",
    "\n",
    "list1 = [5,9,2,12,4,6,1,3,8,11,10,7,11]\n",
    "quicksort(list1)"
   ]
  },
  {
   "cell_type": "code",
   "execution_count": null,
   "id": "a349ef58-268a-4041-b348-819a23b86b5d",
   "metadata": {},
   "outputs": [],
   "source": []
  },
  {
   "cell_type": "code",
   "execution_count": null,
   "id": "baaebedd-8bb2-42c5-b0c1-8c7fd2d30bf7",
   "metadata": {},
   "outputs": [],
   "source": []
  },
  {
   "cell_type": "markdown",
   "id": "f6a2e6ae-1f6a-49f3-865c-4a93043c2c86",
   "metadata": {},
   "source": [
    "## Debugging"
   ]
  },
  {
   "cell_type": "code",
   "execution_count": 4,
   "id": "7f091520-b49a-447f-a363-0ec0cbd1513d",
   "metadata": {},
   "outputs": [
    {
     "name": "stdout",
     "output_type": "stream",
     "text": [
      "The value of a / b is : \n"
     ]
    },
    {
     "ename": "AssertionError",
     "evalue": "Zero Division Error",
     "output_type": "error",
     "traceback": [
      "\u001b[1;31m---------------------------------------------------------------------------\u001b[0m",
      "\u001b[1;31mAssertionError\u001b[0m                            Traceback (most recent call last)",
      "Cell \u001b[1;32mIn[4], line 4\u001b[0m\n\u001b[0;32m      2\u001b[0m b \u001b[38;5;241m=\u001b[39m \u001b[38;5;241m0\u001b[39m\n\u001b[0;32m      3\u001b[0m \u001b[38;5;28mprint\u001b[39m(\u001b[38;5;124m\"\u001b[39m\u001b[38;5;124mThe value of a / b is : \u001b[39m\u001b[38;5;124m\"\u001b[39m)\n\u001b[1;32m----> 4\u001b[0m \u001b[38;5;28;01massert\u001b[39;00m b \u001b[38;5;241m!=\u001b[39m \u001b[38;5;241m0\u001b[39m, \u001b[38;5;124m\"\u001b[39m\u001b[38;5;124mZero Division Error\u001b[39m\u001b[38;5;124m\"\u001b[39m\n\u001b[0;32m      5\u001b[0m \u001b[38;5;28mprint\u001b[39m(a \u001b[38;5;241m/\u001b[39m b)\n",
      "\u001b[1;31mAssertionError\u001b[0m: Zero Division Error"
     ]
    }
   ],
   "source": [
    "a = 4\n",
    "b = 0\n",
    "print(\"The value of a / b is : \")\n",
    "assert b != 0, \"Zero Division Error\"\n",
    "print(a / b)"
   ]
  },
  {
   "cell_type": "code",
   "execution_count": null,
   "id": "89dcbdef-1c8b-4d27-993c-9d29d9c6bcb0",
   "metadata": {},
   "outputs": [],
   "source": [
    "def calculatediscount(price, percentage):\n",
    "\tif percentage < 0 or percentage > 100:\n",
    "\t\treturn \"Invalid discount percentage\" # Incorrect behavior\n",
    "\tdiscountamount = price * (percentage / 100)\n",
    "\treturn price - discountamount\n",
    "print(calculatediscount(100, 150)) # Should be an error"
   ]
  },
  {
   "cell_type": "markdown",
   "id": "0a5b93ff-3527-473b-b425-7da1b98df1cd",
   "metadata": {},
   "source": [
    "### Logging"
   ]
  },
  {
   "cell_type": "code",
   "execution_count": 3,
   "id": "5e087cf9-a95b-4483-8e00-1d04fedf430a",
   "metadata": {},
   "outputs": [],
   "source": [
    "import logging\n",
    "\n",
    "logging.basicConfig(filename='app.log', level=logging.DEBUG)\n",
    "logging.debug('This is a debug message')\n",
    "logging.info('This is an informational   message')\n",
    "logging.warning('This is a warning message')\n",
    "logging.error('This is an error message')"
   ]
  },
  {
   "cell_type": "code",
   "execution_count": 1,
   "id": "f6e3755e-ea0f-40a6-87d8-28fb251e565f",
   "metadata": {},
   "outputs": [],
   "source": [
    "import logging\n",
    "\n",
    "logging.basicConfig(filename='myapp.log', level=logging.DEBUG)\n",
    "\n",
    "def divide(x, y):\n",
    "    try:\n",
    "        result = x / y\n",
    "        logging.info(f\"Successfully divided {x} by {y} to get {result}\")\n",
    "        return result\n",
    "    except ZeroDivisionError:\n",
    "        logging.error(\"Division by zero attempted!\")\n",
    "        return None\n",
    "divide(10, 2)\n",
    "divide(5, 0)"
   ]
  }
 ],
 "metadata": {
  "kernelspec": {
   "display_name": "Python 3 (ipykernel)",
   "language": "python",
   "name": "python3"
  },
  "language_info": {
   "codemirror_mode": {
    "name": "ipython",
    "version": 3
   },
   "file_extension": ".py",
   "mimetype": "text/x-python",
   "name": "python",
   "nbconvert_exporter": "python",
   "pygments_lexer": "ipython3",
   "version": "3.12.4"
  }
 },
 "nbformat": 4,
 "nbformat_minor": 5
}
